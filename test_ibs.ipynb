{
 "cells": [
  {
   "cell_type": "code",
   "execution_count": 1,
   "id": "42a477d5",
   "metadata": {},
   "outputs": [],
   "source": [
    "import jspec"
   ]
  },
  {
   "cell_type": "code",
   "execution_count": 2,
   "id": "86983b71",
   "metadata": {},
   "outputs": [],
   "source": [
    "n_charge = 1\n",
    "n_mass = 938.272\n",
    "ke = 100000\n",
    "exn = 0.5e-6\n",
    "eyn = 0.1e-6\n",
    "dp = 0.0008\n",
    "n_ion = 0.98e10\n",
    "ds = 0.01036584177\n",
    "\n",
    "p_beam = jspec.Beam(n_charge, n_mass, ke, exn, eyn, dp, n_ion, ds)"
   ]
  },
  {
   "cell_type": "code",
   "execution_count": 3,
   "id": "701b4dee",
   "metadata": {},
   "outputs": [],
   "source": [
    "lat = jspec.Lattice(\"test.tfs\")\n",
    "ring = jspec.Ring(lat, p_beam)"
   ]
  },
  {
   "cell_type": "code",
   "execution_count": 5,
   "id": "0d20c66e",
   "metadata": {},
   "outputs": [
    {
     "data": {
      "text/plain": [
       "(1.13467559266672e-29, 1.937969039769463e-28, -5.0273839683795016e-30)"
      ]
     },
     "execution_count": 5,
     "metadata": {},
     "output_type": "execute_result"
    }
   ],
   "source": [
    "log_c = 20.2\n",
    "k = 0\n",
    "ibs_solver = jspec.IBSSolver_BM(log_c,k)\n",
    "ibs_solver.rate(lat, p_beam)"
   ]
  },
  {
   "cell_type": "code",
   "execution_count": 11,
   "id": "9d023a5f",
   "metadata": {},
   "outputs": [
    {
     "name": "stdout",
     "output_type": "stream",
     "text": [
      "<jspec.Lattice object at 0x7f2a0c78e2b0>\n"
     ]
    }
   ],
   "source": [
    "print(lat)"
   ]
  },
  {
   "cell_type": "code",
   "execution_count": 12,
   "id": "762f8f6b",
   "metadata": {
    "scrolled": true
   },
   "outputs": [
    {
     "name": "stdout",
     "output_type": "stream",
     "text": [
      "<jspec.Beam object at 0x7f2a0c78e8f0>\n"
     ]
    }
   ],
   "source": [
    "print(p_beam)"
   ]
  },
  {
   "cell_type": "code",
   "execution_count": null,
   "id": "0a0673bf",
   "metadata": {},
   "outputs": [],
   "source": []
  }
 ],
 "metadata": {
  "kernelspec": {
   "display_name": "Python 3 (ipykernel)",
   "language": "python",
   "name": "python3"
  },
  "language_info": {
   "codemirror_mode": {
    "name": "ipython",
    "version": 3
   },
   "file_extension": ".py",
   "mimetype": "text/x-python",
   "name": "python",
   "nbconvert_exporter": "python",
   "pygments_lexer": "ipython3",
   "version": "3.9.7"
  }
 },
 "nbformat": 4,
 "nbformat_minor": 5
}
